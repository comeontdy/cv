{
 "cells": [
  {
   "cell_type": "code",
   "execution_count": 44,
   "metadata": {},
   "outputs": [],
   "source": [
    "import numpy as np\n",
    "import cv2\n",
    "import matplotlib.pyplot as plt\n",
    "from numpy import *"
   ]
  },
  {
   "cell_type": "markdown",
   "metadata": {},
   "source": [
    "### 高斯模板"
   ]
  },
  {
   "cell_type": "code",
   "execution_count": 43,
   "metadata": {},
   "outputs": [],
   "source": [
    "def gauss_model(size, variance):\n",
    "    result = np.zeros((size,size))\n",
    "    sum = 0.\n",
    "    #二阶高斯函数\n",
    "    for i in range(size):\n",
    "        for j in range(size):\n",
    "            result[i][j] = np.exp(-((int(i-(size-1)/2))**2 + \\\n",
    "                                    (int(j-(size-1)/2))**2)/(2*variance)) / (2*variance*np.pi)\n",
    "            sum += result[i][j]\n",
    "    #归一化\n",
    "    for i in range(size):\n",
    "        for j in range(size):\n",
    "            result[i][j] = result[i][j] / sum\n",
    "    return result"
   ]
  },
  {
   "cell_type": "code",
   "execution_count": 3,
   "metadata": {},
   "outputs": [
    {
     "name": "stdout",
     "output_type": "stream",
     "text": [
      "[[0.01247764 0.02641517 0.03391775 0.02641517 0.01247764]\n",
      " [0.02641517 0.05592091 0.07180387 0.05592091 0.02641517]\n",
      " [0.03391775 0.07180387 0.09219799 0.07180387 0.03391775]\n",
      " [0.02641517 0.05592091 0.07180387 0.05592091 0.02641517]\n",
      " [0.01247764 0.02641517 0.03391775 0.02641517 0.01247764]]\n"
     ]
    }
   ],
   "source": [
    "print(gauss_model(5,2))"
   ]
  },
  {
   "cell_type": "markdown",
   "metadata": {},
   "source": [
    "### 高斯滤波"
   ]
  },
  {
   "cell_type": "code",
   "execution_count": 4,
   "metadata": {},
   "outputs": [],
   "source": [
    "image = cv2.imread('D:3.jpg')"
   ]
  },
  {
   "cell_type": "code",
   "execution_count": 5,
   "metadata": {},
   "outputs": [],
   "source": [
    "#求感受野\n",
    "def feel_area(image, size, height):\n",
    "    alls = []\n",
    "    for i in range(len(image) - size + 1):\n",
    "        for j in range(len(image[0]) - size + 1):\n",
    "            temp = np.zeros((size,size))\n",
    "            for m in range(size):\n",
    "                for n in range(size):\n",
    "                    temp[m][n] = image[i+m][j+n][height]\n",
    "            alls.append(temp)\n",
    "    return alls\n"
   ]
  },
  {
   "cell_type": "code",
   "execution_count": 6,
   "metadata": {},
   "outputs": [],
   "source": [
    "#卷积计算方法\n",
    "def conovl(model,area):\n",
    "    sum = 0\n",
    "    for i in range(len(model)):\n",
    "        for j in range(len(model[0])):\n",
    "            sum += model[i][j] * area[i][j]\n",
    "    return sum/255"
   ]
  },
  {
   "cell_type": "code",
   "execution_count": 7,
   "metadata": {},
   "outputs": [],
   "source": [
    "#计算卷积后大小\n",
    "def cov_size(image,size):\n",
    "    w =int((len(image[0])-size)/1+1)\n",
    "    h = int((len(image)-size)/1+1)\n",
    "    return w,h\n",
    "#高斯滤波函数\n",
    "def convolution(iamge,size,var,height):\n",
    "    w,h = cov_size(image,size)\n",
    "    cov_result = np.zeros((h,w))\n",
    "    model = gauss_model(size, var)\n",
    "    feel_model = feel_area(image, size,height)\n",
    "    for i in range(h):\n",
    "        for j in range(w):\n",
    "            cov_result[i][j] = conovl(feel_model[i * w + j],model)\n",
    "    return cov_result"
   ]
  },
  {
   "cell_type": "code",
   "execution_count": 8,
   "metadata": {},
   "outputs": [],
   "source": [
    "#对三个通道分别进行滤波，然后结合\n",
    "def get_new_image(image,size,var):\n",
    "    ren_image = convolution(image,size,var,0)\n",
    "    ren1_image = convolution(image,size,var,1)\n",
    "    ren2_image = convolution(image,size,var,2)\n",
    "    image_result = np.dstack([ren_image,ren1_image,ren2_image])\n",
    "    return image_result"
   ]
  },
  {
   "cell_type": "code",
   "execution_count": 9,
   "metadata": {},
   "outputs": [
    {
     "data": {
      "text/plain": [
       "True"
      ]
     },
     "execution_count": 9,
     "metadata": {},
     "output_type": "execute_result"
    }
   ],
   "source": [
    "image_result = get_new_image(image,7,3)\n",
    "img = cv2.normalize(image_result, None, 0, 255, cv2.NORM_MINMAX, cv2.CV_8U)\n",
    "cv2.imwrite(\"3_cov3.jpg\",img)"
   ]
  },
  {
   "cell_type": "markdown",
   "metadata": {},
   "source": [
    "### canny算法"
   ]
  },
  {
   "cell_type": "markdown",
   "metadata": {},
   "source": [
    "##### 加载图片，变成灰度图"
   ]
  },
  {
   "cell_type": "code",
   "execution_count": 10,
   "metadata": {},
   "outputs": [
    {
     "data": {
      "text/plain": [
       "True"
      ]
     },
     "execution_count": 10,
     "metadata": {},
     "output_type": "execute_result"
    }
   ],
   "source": [
    "image = cv2.imread(\"3.jpg\")\n",
    "img = cv2.cvtColor(image,cv2.COLOR_RGB2GRAY)\n",
    "cv2.imwrite(\"3_gray.jpg\",img)"
   ]
  },
  {
   "cell_type": "markdown",
   "metadata": {},
   "source": [
    "##### 平滑"
   ]
  },
  {
   "cell_type": "code",
   "execution_count": 11,
   "metadata": {},
   "outputs": [
    {
     "data": {
      "text/plain": [
       "True"
      ]
     },
     "execution_count": 11,
     "metadata": {},
     "output_type": "execute_result"
    }
   ],
   "source": [
    "gaussian = gauss_model(5, 1)\n",
    "w1, h1 = img.shape\n",
    "new_gray = np.zeros([w1-5, h1-5])\n",
    "for i in range(w1-5):\n",
    "    for j in range(h1-5):\n",
    "        new_gray[i,j] = np.sum(img[i:i+5,j:j+5]*gaussian)/255\n",
    "\n",
    "img1 = cv2.normalize(new_gray, None, 0, 255, cv2.NORM_MINMAX, cv2.CV_8U)\n",
    "cv2.imwrite(\"3_cov_gray.jpg\",img1)"
   ]
  },
  {
   "cell_type": "markdown",
   "metadata": {},
   "source": [
    "##### 梯度强度和方向"
   ]
  },
  {
   "cell_type": "code",
   "execution_count": 13,
   "metadata": {},
   "outputs": [
    {
     "data": {
      "text/plain": [
       "True"
      ]
     },
     "execution_count": 13,
     "metadata": {},
     "output_type": "execute_result"
    }
   ],
   "source": [
    "#new_gray0 = cv2.normalize(new_gray, None, 0, 255, cv2.NORM_MINMAX, cv2.CV_8U)\n",
    "w2, h2 = new_gray.shape\n",
    "dx = np.zeros([w2-1, h2-1])\n",
    "dy = np.zeros([w2-1, h2-1])\n",
    "d = np.zeros([w2-1, h2-1])\n",
    "for i in range(w2-1):\n",
    "    for j in range(h2-1):\n",
    "        dx[i,j] = (new_gray[i+1,j-1] + 2*new_gray[i+1,j] + new_gray[i+1,j+1]) - (new_gray[i-1,j-1]+2*new_gray[i-1,j]+new_gray[i-1,j+1])\n",
    "        dy[i,j] = (new_gray[i-1,j-1] + 2*new_gray[i,j-1] + new_gray[i+1,j-1]) - (new_gray[i-1,j+1]+2*new_gray[i,j+1]+new_gray[i+1,j+1])\n",
    "        d[i, j] = np.sqrt(np.square(dx[i,j]) + np.square(dy[i,j]))\n",
    "#plt.figure()\n",
    "#plt.imshow(d,cmap='gray')\n",
    "#plt.show()\n",
    "#cv2.imshow('3',d)\n",
    "#cv2.waitKey(0)\n",
    "d1 = cv2.normalize(d, None, 0, 255, cv2.NORM_MINMAX, cv2.CV_8U)\n",
    "cv2.imwrite(\"3_cov_gray_gd.jpg\",d1)"
   ]
  },
  {
   "cell_type": "markdown",
   "metadata": {},
   "source": [
    "##### 非极大化抑制"
   ]
  },
  {
   "cell_type": "code",
   "execution_count": 14,
   "metadata": {},
   "outputs": [
    {
     "data": {
      "text/plain": [
       "True"
      ]
     },
     "execution_count": 14,
     "metadata": {},
     "output_type": "execute_result"
    }
   ],
   "source": [
    "w3, h3 = d.shape\n",
    "NMS = np.copy(d)\n",
    "NMS[0,:] = NMS[w3-1,:] = NMS[:,0] = NMS[:, h3-1] = 0\n",
    "for i in range(1, w3-1):\n",
    "    for j in range(1, h3-1):\n",
    "        if d[i, j] == 0:\n",
    "            NMS[i, j] = 0\n",
    "        else:\n",
    "            gradX = dx[i, j]\n",
    "            gradY = dy[i, j]\n",
    "            gradTemp = d[i, j]\n",
    "            \n",
    "            if np.abs(gradY) > np.abs(gradX):\n",
    "                weight = np.abs(gradX) / np.abs(gradY)\n",
    "                grad2 = d[i-1, j]\n",
    "                grad4 = d[i+1, j]\n",
    "                # 如果x,y方向梯度符号相同\n",
    "                if gradX * gradY > 0:\n",
    "                    grad1 = d[i-1, j-1]\n",
    "                    grad3 = d[i+1, j+1]\n",
    "                # 如果x,y方向梯度符号相反\n",
    "                else:\n",
    "                    grad1 = d[i-1, j+1]\n",
    "                    grad3 = d[i+1, j-1]\n",
    "                    \n",
    "            # 如果X方向幅度值较大\n",
    "            else:\n",
    "                weight = np.abs(gradY) / np.abs(gradX)\n",
    "                grad2 = d[i, j-1]\n",
    "                grad4 = d[i, j+1]\n",
    "                # 如果x,y方向梯度符号相同\n",
    "                if gradX * gradY > 0:\n",
    "                    grad1 = d[i+1, j-1]\n",
    "                    grad3 = d[i-1, j+1]\n",
    "                # 如果x,y方向梯度符号相反\n",
    "                else:\n",
    "                    grad1 = d[i-1, j-1]\n",
    "                    grad3 = d[i+1, j+1]\n",
    "        \n",
    "            gradTemp1 = weight * grad2 + (1-weight) * grad1\n",
    "            gradTemp2 = weight * grad4 + (1-weight) * grad3\n",
    "            if gradTemp >= gradTemp1 and gradTemp >= gradTemp2:\n",
    "                NMS[i, j] = gradTemp\n",
    "            else:\n",
    "                NMS[i, j] = 0\n",
    "#plt.figure()\n",
    "#plt.imshow(NMS,cmap = 'gray')\n",
    "#plt.show()\n",
    "#cv2.imshow('3',NMS)\n",
    "#cv2.waitKey(0)\n",
    "NMS1 = cv2.normalize(NMS, None, 0, 255, cv2.NORM_MINMAX, cv2.CV_8U)\n",
    "cv2.imwrite(\"3_cov_gray_gd_NMS.jpg\",NMS1)"
   ]
  },
  {
   "cell_type": "markdown",
   "metadata": {},
   "source": [
    "##### 高低阈值和抑制孤立比较低的阈值点"
   ]
  },
  {
   "cell_type": "code",
   "execution_count": 16,
   "metadata": {},
   "outputs": [
    {
     "data": {
      "text/plain": [
       "True"
      ]
     },
     "execution_count": 16,
     "metadata": {},
     "output_type": "execute_result"
    }
   ],
   "source": [
    "w4, h4 = NMS.shape\n",
    "DT = np.zeros([w4, h4])               \n",
    "# 定义高低阈值\n",
    "TL = 0.15* np.max(NMS)\n",
    "TH = 0.4 * np.max(NMS)\n",
    "for i in range(1, w4-1):\n",
    "    for j in range(1, h4-1):\n",
    "        if (NMS[i, j] < TL):\n",
    "            DT[i, j] = 0\n",
    "        elif (NMS[i, j] > TH):\n",
    "            DT[i, j] = 1\n",
    "        elif ((NMS[i-1, j-1:j+1] < TH).any() or (NMS[i+1, j-1:j+1] < TH).any() or (NMS[i, [j-1, j+1]] < TH).any()):\n",
    "            DT[i, j] = 1\n",
    "\n",
    "DT1 = cv2.normalize(DT, None, 0, 255, cv2.NORM_MINMAX, cv2.CV_8U)\n",
    "cv2.imwrite(\"3_cov_gray_gd_NMS_dt.jpg\",DT1)"
   ]
  },
  {
   "cell_type": "markdown",
   "metadata": {},
   "source": [
    "### harris算法"
   ]
  },
  {
   "cell_type": "markdown",
   "metadata": {},
   "source": [
    "###### 加载图片并且灰度值"
   ]
  },
  {
   "cell_type": "code",
   "execution_count": 23,
   "metadata": {},
   "outputs": [],
   "source": [
    "image = cv2.imread(\"3.jpg\")\n",
    "img = cv2.cvtColor(image,cv2.COLOR_RGB2GRAY)\n",
    "#cv2.imshow(\"0\",img)\n",
    "#cv2.waitKey(0)"
   ]
  },
  {
   "cell_type": "markdown",
   "metadata": {},
   "source": [
    "##### 平滑"
   ]
  },
  {
   "cell_type": "code",
   "execution_count": 24,
   "metadata": {},
   "outputs": [],
   "source": [
    "gaussian = gauss_model(5, 1)\n",
    "w, h = img.shape\n",
    "new_gray = np.zeros([w-5, h-5])\n",
    "for i in range(w-5):\n",
    "    for j in range(h-5):\n",
    "        new_gray[i,j] = np.sum(img[i:i+5,j:j+5]*gaussian)/255\n",
    "#print(new_gray)\n",
    "#cv2.imshow(\"0\",new_gray)\n",
    "#cv2.waitKey(0)\n",
    "#n = cv2.normalize(new_gray, None, 0, 255, cv2.NORM_MINMAX, cv2.CV_8U)"
   ]
  },
  {
   "cell_type": "markdown",
   "metadata": {},
   "source": [
    "##### 计算梯度"
   ]
  },
  {
   "cell_type": "code",
   "execution_count": 25,
   "metadata": {},
   "outputs": [],
   "source": [
    "w1, h1 = new_gray.shape\n",
    "dx = np.zeros([w1-1,h1-1])\n",
    "dy = np.zeros([w1-1, h1-1])\n",
    "d = np.zeros([w1-1, h1-1])\n",
    "for i in range(w1-1):\n",
    "    for j in range(h1-1):\n",
    "        dx[i,j] = (new_gray[i+1,j-1] + 2*new_gray[i+1,j] + new_gray[i+1,j+1]) - (new_gray[i-1,j-1]+2*new_gray[i-1,j]+new_gray[i-1,j+1]) \n",
    "        dy[i,j] = (new_gray[i-1,j-1] + 2*new_gray[i,j-1] + new_gray[i+1,j-1]) - (new_gray[i-1,j+1]+2*new_gray[i,j+1]+new_gray[i+1,j+1])\n",
    "        d[i, j] = np.sqrt(np.square(dx[i,j]) + np.square(dy[i,j]))\n",
    "#plt.figure()\n",
    "#plt.imshow(d,cmap='gray')\n",
    "#plt.show()\n",
    "#cv2.imshow('3',d)\n",
    "#cv2.waitKey(0)"
   ]
  },
  {
   "cell_type": "markdown",
   "metadata": {},
   "source": [
    "##### 计算梯度平方"
   ]
  },
  {
   "cell_type": "code",
   "execution_count": 29,
   "metadata": {},
   "outputs": [],
   "source": [
    "w2,h2 = d.shape\n",
    "lxx = np.zeros([w2,h2])\n",
    "lyy = np.zeros([w2,h2])\n",
    "lxy = np.zeros([w2,h2])\n",
    "for i in range(w2):\n",
    "    for j in range(h2):\n",
    "        lxx[i,j] = dx[i,j]*dx[i,j]\n",
    "        lyy[i,j] = dy[i,j]*dy[i,j]\n",
    "        lxy[i,j] = dx[i,j]*dy[i,j]"
   ]
  },
  {
   "cell_type": "markdown",
   "metadata": {},
   "source": [
    "##### 计算梯度像素和"
   ]
  },
  {
   "cell_type": "code",
   "execution_count": 30,
   "metadata": {},
   "outputs": [],
   "source": [
    "gaussian1 = gauss_model(5, 1)\n",
    "sxx = np.zeros([w2-5,h2-5])\n",
    "syy = np.zeros([w2-5,h2-5])\n",
    "sxy = np.zeros([w2-5,h2-5])\n",
    "\n",
    "for i in range(w2-5):\n",
    "    for j in range(h2-5):\n",
    "        sxx[i,j] = np.sum(lxx[i:i+5,j:j+5]*gaussian1)\n",
    "        syy[i,j] = np.sum(lyy[i:i+5,j:j+5]*gaussian1)\n",
    "        sxy[i,j] = np.sum(lxy[i:i+5,j:j+5]*gaussian1) "
   ]
  },
  {
   "cell_type": "markdown",
   "metadata": {},
   "source": [
    "##### 计算Harris矩阵和R值"
   ]
  },
  {
   "cell_type": "code",
   "execution_count": 31,
   "metadata": {},
   "outputs": [],
   "source": [
    "w3,h3 = sxy.shape\n",
    "R = np.zeros([w3,h3])\n",
    "maxR = 0.\n",
    "for i in range(w3):\n",
    "    for j in range(h3):\n",
    "        temp = mat([[sxx[i,j],sxy[i,j]],[sxy[i,j],syy[i,j]]])\n",
    "        R[i,j] = np.linalg.det(temp) - 0.05*(temp.trace()**2)\n",
    "        if R[i,j] > maxR:\n",
    "            maxR = R[i,j]"
   ]
  },
  {
   "cell_type": "markdown",
   "metadata": {},
   "source": [
    "##### 非极大化抑制和按照阈值找到角点"
   ]
  },
  {
   "cell_type": "code",
   "execution_count": 32,
   "metadata": {},
   "outputs": [
    {
     "data": {
      "image/png": "[encoded data removed]",
      "text/plain": [
       "<Figure size 432x288 with 1 Axes>"
      ]
     },
     "metadata": {
      "needs_background": "light"
     },
     "output_type": "display_data"
    },
    {
     "data": {
      "text/plain": [
       "True"
      ]
     },
     "execution_count": 32,
     "metadata": {},
     "output_type": "execute_result"
    }
   ],
   "source": [
    "img14 = np.copy(img)\n",
    "w4,h4 = R.shape\n",
    "#print(R)\n",
    "for i in range(1,w4-1):\n",
    "    for j in range(1,h4-1):\n",
    "        if R[i,j] > 0.0001*maxR and R[i,j] > R[i-1,j-1] and R[i,j] > R[i-1,j] and R[i,j] > R[i-1,j+1] and R[i,j] > R[i,j-1] and R[i,j] > R[i,j+1] and R[i,j] > R[i+1,j-1] and R[i,j] > R[i+1,j] and R[i,j] > R[i+1,j+1]:\n",
    "            #font = cv2.FONT_HERSHEY_SIMPLEX\n",
    "            #cv2.putText(img14,'x',(j+5,i+5), font, 0.1,(255,0,0),1)\n",
    "            cv2.circle(img14,(j+3,i+3),1,(255,0,0),-1)\n",
    "plt.figure()\n",
    "plt.imshow(img14,cmap = 'gray')\n",
    "plt.show()\n",
    "#cv2.imshow('3',img14)\n",
    "#cv2.waitKey(0)\n",
    "Harris = cv2.normalize(img14, None, 0, 255, cv2.NORM_MINMAX, cv2.CV_8U)\n",
    "cv2.imwrite(\"harris_1.jpg\",img14)"
   ]
  },
  {
   "cell_type": "markdown",
   "metadata": {},
   "source": [
    "### SIFT算法"
   ]
  },
  {
   "cell_type": "markdown",
   "metadata": {},
   "source": [
    "##### 读取图像以及灰度化"
   ]
  },
  {
   "cell_type": "code",
   "execution_count": 33,
   "metadata": {},
   "outputs": [],
   "source": [
    "img_sift = cv2.imread(\"3.jpg\")\n",
    "img_s = cv2.cvtColor(img_sift,cv2.COLOR_RGB2GRAY)"
   ]
  },
  {
   "cell_type": "markdown",
   "metadata": {},
   "source": [
    "##### 调库寻找sift特征点"
   ]
  },
  {
   "cell_type": "code",
   "execution_count": 34,
   "metadata": {},
   "outputs": [
    {
     "data": {
      "text/plain": [
       "True"
      ]
     },
     "execution_count": 34,
     "metadata": {},
     "output_type": "execute_result"
    }
   ],
   "source": [
    "sift = cv2.xfeatures2d.SIFT_create()\n",
    "kp = sift.detect(img_s,None)\n",
    "img_s1=cv2.drawKeypoints(img_s,kp,img_sift)\n",
    "cv2.imwrite(\"sift.jpg\",img_s1)\n",
    "#cv2.waitKey(0)"
   ]
  },
  {
   "cell_type": "markdown",
   "metadata": {},
   "source": [
    "##### 验证状态不变性"
   ]
  },
  {
   "cell_type": "code",
   "execution_count": 38,
   "metadata": {},
   "outputs": [],
   "source": [
    "def two_img_sift(img1 , img2 ,path):  \n",
    "    Img1 = cv2.imread(img1)\n",
    "    Img2 = cv2.imread(img2)\n",
    "    \n",
    "    # 创建识别器\n",
    "    detector = cv2.xfeatures2d.SIFT_create(200)\n",
    "    \n",
    "    # 计算KeyPoints\n",
    "    kp1 , des1 = detector.detectAndCompute(Img1,None)\n",
    "    kp2 , des2 = detector.detectAndCompute(Img2,None)\n",
    "    \n",
    "    # 创建BFMatcher\n",
    "    bf = cv2.BFMatcher()\n",
    "    matchers = bf.knnMatch(des1 , des2 , k=2)\n",
    "    \n",
    "    # 创建相似列表\n",
    "    Match = []\n",
    "    for m,n in matchers:\n",
    "        if m.distance <  0.50*n.distance:\n",
    "            Match.append(m)\n",
    "            \n",
    "    height1 , width1 = Img1.shape[:2]\n",
    "    height2 , width2 = Img2.shape[:2]\n",
    "    \n",
    "    # 像素调整\n",
    "    vis = np.zeros((max(height1, height2), width1 + width2, 3), np.uint8)\n",
    "    vis[:height1, :width1] = Img1\n",
    "    vis[:height2, width1:width1 + width2] = Img2\n",
    "    \n",
    "    p1 = [kpp.queryIdx for kpp in Match[:20]]\n",
    "    p2 = [kpp.trainIdx for kpp in Match[:20]]\n",
    "\n",
    "    post1 = np.int32([kp1[pp].pt for pp in p1])\n",
    "    post2 = np.int32([kp2[pp].pt for pp in p2]) + (width1, 0)\n",
    "    \n",
    "    \n",
    "    for (x1, y1), (x2, y2) in zip(post1, post2):\n",
    "        cv2.line(vis, (x1, y1), (x2, y2), (0,0,255))\n",
    "    \n",
    "    cv2.imwrite(path,vis)\n",
    "    #cv2.namedWindow(\"match\",cv2.WINDOW_NORMAL)\n",
    "    #cv2.imshow(\"match\", vis)    \n",
    "    #cv2.waitKey(0)\n",
    "    #cv2.destroyAllWindows()"
   ]
  },
  {
   "cell_type": "markdown",
   "metadata": {},
   "source": [
    "##### 旋转不变性"
   ]
  },
  {
   "cell_type": "code",
   "execution_count": 40,
   "metadata": {},
   "outputs": [],
   "source": [
    "path1 = r\"D:\\3_gray.jpg\"\n",
    "path2 = r\"D:\\3_gray_0.jpg\"\n",
    "path3 = \"tran.jpg\"\n",
    "two_img_sift(path1 , path2, path3)"
   ]
  },
  {
   "cell_type": "markdown",
   "metadata": {},
   "source": [
    "##### 亮度不变性"
   ]
  },
  {
   "cell_type": "code",
   "execution_count": 41,
   "metadata": {},
   "outputs": [],
   "source": [
    "path1 = r\"D:\\3_gray_3.jpg\"\n",
    "path2 = r\"D:\\3_gray_0.jpg\"\n",
    "path3 = \"light.jpg\"\n",
    "two_img_sift(path1 , path2, path3)"
   ]
  },
  {
   "cell_type": "markdown",
   "metadata": {},
   "source": [
    "##### 缩放不变性"
   ]
  },
  {
   "cell_type": "code",
   "execution_count": 42,
   "metadata": {},
   "outputs": [],
   "source": [
    "path1 = r\"D:\\3_gray_2.jpg\"\n",
    "path2 = r\"D:\\3_gray_0.jpg\"\n",
    "path3 = \"shrink.jpg\"\n",
    "two_img_sift(path1 , path2, path3)"
   ]
  },
  {
   "cell_type": "code",
   "execution_count": null,
   "metadata": {},
   "outputs": [],
   "source": []
  }
 ],
 "metadata": {
  "kernelspec": {
   "display_name": "Python 3",
   "language": "python",
   "name": "python3"
  },
  "language_info": {
   "codemirror_mode": {
    "name": "ipython",
    "version": 3
   },
   "file_extension": ".py",
   "mimetype": "text/x-python",
   "name": "python",
   "nbconvert_exporter": "python",
   "pygments_lexer": "ipython3",
   "version": "3.6.4rc1"
  }
 },
 "nbformat": 4,
 "nbformat_minor": 2
}
